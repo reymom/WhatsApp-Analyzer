{
 "cells": [
  {
   "cell_type": "code",
   "execution_count": 1,
   "metadata": {},
   "outputs": [],
   "source": [
    "%matplotlib inline\n",
    "import numpy as np\n",
    "import pandas as pd\n",
    "import re\n",
    "import matplotlib\n",
    "import matplotlib.pyplot as plt"
   ]
  },
  {
   "cell_type": "code",
   "execution_count": 2,
   "metadata": {},
   "outputs": [],
   "source": [
    "def startsWithDate(s):\n",
    "    pattern = '^([1-9]|[1-2][0-9]|(3)[0-1])(\\/)([1-9]|(1)[0-2])(\\/)(1)(9) ([0-9][0-9]|[0-9]):([0-9][0-9]) -'\n",
    "    result = re.match(pattern, s)\n",
    "    if result:\n",
    "        return True\n",
    "    return False"
   ]
  },
  {
   "cell_type": "code",
   "execution_count": 3,
   "metadata": {},
   "outputs": [],
   "source": [
    "def startsWithAuthor(s):\n",
    "    patterns = [\n",
    "        '([\\w]+):',                        # First Name\n",
    "        '([\\w]+[\\s]+[\\w]+):',              # First Name + Last Name\n",
    "        '([\\w]+[\\s]+[\\w]+[\\s]+[\\w]+):',    # First Name + Middle Name + Last Name\n",
    "        '([+]\\d{2} \\d{4} \\d{7})'           # Mobile Number (Europe)\n",
    "    ]\n",
    "    pattern = '^' + '|'.join(patterns)\n",
    "    result = re.match(pattern, s)\n",
    "    if result:\n",
    "        return True\n",
    "    return False"
   ]
  },
  {
   "cell_type": "code",
   "execution_count": 4,
   "metadata": {},
   "outputs": [],
   "source": [
    "def getDataPoint(line):\n",
    "    # line = 18/06/19, 22:47 - Daniki: Avui se surt\n",
    "    \n",
    "    splitLine = line.split(' - ') # splitLine = ['18/6/19, 22:47', 'Daniki: Avui se surt']\n",
    "    \n",
    "    dateTime = splitLine[0] # dateTime = '18/6/19, 22:47'\n",
    "    \n",
    "    date, time = dateTime.split() # date = '18/6/19'; time = '22:47'\n",
    "    \n",
    "    message = ' '.join(splitLine[1:]) # message = 'Daniki: Avui se surt'\n",
    "    \n",
    "    if startsWithAuthor(message): # True\n",
    "        splitMessage = message.split(': ') # splitMessage = ['Daniki', 'Avui se surt']\n",
    "        author = splitMessage[0] # author = 'Daniki'\n",
    "        message = ' '.join(splitMessage[1:]) # message = 'Avui se surt?'\n",
    "    else:\n",
    "        author = None\n",
    "    return date, time, author, message"
   ]
  },
  {
   "cell_type": "code",
   "execution_count": 6,
   "metadata": {},
   "outputs": [],
   "source": [
    "parsedData = [] # List to keep track of data so it can be used by a Pandas dataframe\n",
    "conversationPath = 'Chat_Qehace.txt'\n",
    "with open(conversationPath, encoding=\"utf-8\") as fp:\n",
    "    fp.readline() # Skipping first line of the file (usually contains information about end-to-end encryption)\n",
    "    fp.readline()\n",
    "    fp.readline()\n",
    "    messageBuffer = [] # Buffer to capture intermediate output for multi-line messages\n",
    "    date, time, author = None, None, None # Intermediate variables to keep track of the current message being processed\n",
    "    \n",
    "    while True:\n",
    "        line = fp.readline() \n",
    "        if not line: # Stop reading further if end of file has been reached\n",
    "            break\n",
    "        line = line.strip() # Guarding against erroneous leading and trailing whitespaces\n",
    "        if startsWithDate(line): # If a line starts with a Date Time pattern, then this indicates the beginning of a new message\n",
    "            if len(messageBuffer) > 0: # Check if the message buffer contains characters from previous iterations\n",
    "                parsedData.append([date, time, author, ' '.join(messageBuffer)]) # Save the tokens from the previous message in parsedData\n",
    "            messageBuffer.clear() # Clear the message buffer so that it can be used for the next message\n",
    "            date, time, author, message = getDataPoint(line) # Identify and extract tokens from the line\n",
    "            messageBuffer.append(message) # Append message to buffer\n",
    "        else:\n",
    "            messageBuffer.append(line) # If a line doesn't start with a Date Time pattern, then it is part of a multi-line message. So, just append to buffer"
   ]
  },
  {
   "cell_type": "code",
   "execution_count": 8,
   "metadata": {},
   "outputs": [],
   "source": [
    "df = pd.DataFrame(parsedData, columns=['Date', 'Time', 'Author', 'Message'])"
   ]
  },
  {
   "cell_type": "code",
   "execution_count": 9,
   "metadata": {},
   "outputs": [],
   "source": [
    "null_authors_df = df[df['Author'].isnull()]\n",
    "media_messages_df = df[df['Message'] == '<Multimedia omitido>']"
   ]
  },
  {
   "cell_type": "code",
   "execution_count": 11,
   "metadata": {},
   "outputs": [],
   "source": [
    "messages_df = df.drop(null_authors_df.index)\n",
    "messages_df = messages_df.drop(media_messages_df.index)"
   ]
  },
  {
   "cell_type": "code",
   "execution_count": 13,
   "metadata": {},
   "outputs": [
    {
     "data": {
      "text/html": [
       "<div>\n",
       "<style scoped>\n",
       "    .dataframe tbody tr th:only-of-type {\n",
       "        vertical-align: middle;\n",
       "    }\n",
       "\n",
       "    .dataframe tbody tr th {\n",
       "        vertical-align: top;\n",
       "    }\n",
       "\n",
       "    .dataframe thead th {\n",
       "        text-align: right;\n",
       "    }\n",
       "</style>\n",
       "<table border=\"1\" class=\"dataframe\">\n",
       "  <thead>\n",
       "    <tr style=\"text-align: right;\">\n",
       "      <th></th>\n",
       "      <th>Date</th>\n",
       "      <th>Time</th>\n",
       "      <th>Author</th>\n",
       "      <th>Message</th>\n",
       "    </tr>\n",
       "  </thead>\n",
       "  <tbody>\n",
       "    <tr>\n",
       "      <th>0</th>\n",
       "      <td>7/3/19</td>\n",
       "      <td>15:03</td>\n",
       "      <td>Coto</td>\n",
       "      <td>Lokis ara he arribat a Lleida</td>\n",
       "    </tr>\n",
       "    <tr>\n",
       "      <th>1</th>\n",
       "      <td>7/3/19</td>\n",
       "      <td>15:08</td>\n",
       "      <td>Knuts</td>\n",
       "      <td>https://www.youtube.com/watch?v=SvXu4-WLJT8</td>\n",
       "    </tr>\n",
       "    <tr>\n",
       "      <th>2</th>\n",
       "      <td>7/3/19</td>\n",
       "      <td>15:09</td>\n",
       "      <td>Coto</td>\n",
       "      <td>Jajaja ja marxo</td>\n",
       "    </tr>\n",
       "    <tr>\n",
       "      <th>3</th>\n",
       "      <td>7/3/19</td>\n",
       "      <td>15:44</td>\n",
       "      <td>Daniki</td>\n",
       "      <td>Estic currant a la csa colonies jo</td>\n",
       "    </tr>\n",
       "    <tr>\n",
       "      <th>4</th>\n",
       "      <td>7/3/19</td>\n",
       "      <td>15:45</td>\n",
       "      <td>Daniki</td>\n",
       "      <td>Fins div d la setman vinent re</td>\n",
       "    </tr>\n",
       "  </tbody>\n",
       "</table>\n",
       "</div>"
      ],
      "text/plain": [
       "     Date   Time  Author                                      Message\n",
       "0  7/3/19  15:03    Coto                Lokis ara he arribat a Lleida\n",
       "1  7/3/19  15:08   Knuts  https://www.youtube.com/watch?v=SvXu4-WLJT8\n",
       "2  7/3/19  15:09    Coto                              Jajaja ja marxo\n",
       "3  7/3/19  15:44  Daniki           Estic currant a la csa colonies jo\n",
       "4  7/3/19  15:45  Daniki               Fins div d la setman vinent re"
      ]
     },
     "execution_count": 13,
     "metadata": {},
     "output_type": "execute_result"
    }
   ],
   "source": [
    "messages_df.head()"
   ]
  }
 ],
 "metadata": {
  "kernelspec": {
   "display_name": "Python 3",
   "language": "python",
   "name": "python3"
  },
  "language_info": {
   "codemirror_mode": {
    "name": "ipython",
    "version": 3
   },
   "file_extension": ".py",
   "mimetype": "text/x-python",
   "name": "python",
   "nbconvert_exporter": "python",
   "pygments_lexer": "ipython3",
   "version": "3.5.2"
  }
 },
 "nbformat": 4,
 "nbformat_minor": 2
}
